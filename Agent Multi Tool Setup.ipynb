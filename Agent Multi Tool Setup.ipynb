{
 "cells": [
  {
   "cell_type": "markdown",
   "metadata": {
    "application/vnd.databricks.v1+cell": {
     "cellMetadata": {
      "byteLimit": 2048000,
      "rowLimit": 10000
     },
     "inputWidgets": {},
     "nuid": "b037c5b4-c335-43c7-b2b9-8d9a72e67a00",
     "showTitle": false,
     "tableResultSettingsMap": {},
     "title": ""
    }
   },
   "source": [
    "# Agent multi tool space setup \n",
    "\n",
    "Steps to execute\n",
    "\n",
    "1. Load local files into UC tables\n",
    "2. Create genie space and hydrate with datasets \n",
    "3. Create vector store\n",
    "4. Set mlflow experiment\n",
    "5. Write results into app_config.yaml file. This will be used by the streamlit app\n"
   ]
  },
  {
   "cell_type": "code",
   "execution_count": null,
   "metadata": {},
   "outputs": [],
   "source": [
    "%pip install --quiet -U databricks-sdk==0.49.0 \"databricks-langchain>=0.4.0\" databricks-agents mlflow[databricks] langchain==0.3.25 langchain_core==0.3.59 databricks-vectorsearch==0.55 pydantic==2.10.1 unitycatalog-ai==0.3.0 unitycatalog-client\n",
    "dbutils.library.restartPython()"
   ]
  },
  {
   "cell_type": "markdown",
   "metadata": {},
   "source": [
    "### Set global variables\n",
    "\n",
    "Make these your own values\n"
   ]
  },
  {
   "cell_type": "code",
   "execution_count": null,
   "metadata": {},
   "outputs": [],
   "source": [
    "catalog = \"main\"\n",
    "schema = \"genie_multi_agent\"\n",
    "warehouse_cluster_id = \"072b588d901e6eed\"\n",
    "\n",
    "databricks_foundation_model = \"databricks-claude-3-7-sonnet\"\n",
    "\n",
    "vector_search_endpoint_name = \"vector-search-multi-agent-genie\""
   ]
  },
  {
   "cell_type": "markdown",
   "metadata": {
    "application/vnd.databricks.v1+cell": {
     "cellMetadata": {
      "byteLimit": 2048000,
      "rowLimit": 10000
     },
     "inputWidgets": {},
     "nuid": "1bd69464-f3a6-4c56-97e6-c7b062a7b4ab",
     "showTitle": false,
     "tableResultSettingsMap": {},
     "title": ""
    }
   },
   "source": [
    "\n",
    "### Load local files into UC tables"
   ]
  },
  {
   "cell_type": "code",
   "execution_count": 0,
   "metadata": {
    "application/vnd.databricks.v1+cell": {
     "cellMetadata": {
      "byteLimit": 2048000,
      "rowLimit": 10000
     },
     "inputWidgets": {},
     "nuid": "e2b0196e-4b83-4640-8f77-267c657e7f03",
     "showTitle": false,
     "tableResultSettingsMap": {},
     "title": ""
    }
   },
   "outputs": [
    {
     "name": "stderr",
     "output_type": "stream",
     "text": [
      "No such comm: LSP_COMM_ID\n",
      "No such comm: LSP_COMM_ID\n"
     ]
    }
   ],
   "source": [
    "import os\n",
    "from pathlib import Path\n",
    "\n",
    "import pandas as pd\n",
    "\n",
    "\n",
    "file_names = [\n",
    "    i\n",
    "    for i in os.listdir(\"data\")\n",
    "    if i.endswith(\".csv\")\n",
    "    if i != \"retail_code_of_conduct.csv\"\n",
    "]\n",
    "table_names = [i.replace(\".csv\", \"\") for i in file_names]\n",
    "\n",
    "spark.sql(f\"CREATE CATALOG IF NOT EXISTS {catalog}\")\n",
    "spark.sql(f\"CREATE SCHEMA IF NOT EXISTS {catalog}.{schema}\")\n",
    "\n",
    "existing_tables = [\n",
    "    i.tableName\n",
    "    for i in list(\n",
    "        spark.sql(f\"SHOW TABLES FROM {catalog}.{schema}\").select(\"tableName\").collect()\n",
    "    )\n",
    "]\n",
    "\n",
    "for file_name, table_name in zip(file_names, table_names):\n",
    "    if table_name not in existing_tables:\n",
    "        full_filepath = f\"file://{(Path('.') / 'data' / file_name).absolute()}\"\n",
    "        full_table_path = f\"{catalog}.{schema}.{table_name}\"\n",
    "        df = spark.read.csv(full_filepath, header=True, inferSchema=True)\n",
    "        df.write.mode(\"overwrite\").saveAsTable(full_table_path)\n",
    "\n",
    "if \"retail_code_of_conduct\" not in existing_tables:\n",
    "    code_of_conduct = pd.read_csv(\"data/retail_code_of_conduct.csv\")\n",
    "\n",
    "    code_of_conduct_spark = spark.createDataFrame(code_of_conduct)\n",
    "    code_of_conduct_spark.write.mode(\"overwrite\").saveAsTable(\n",
    "        f\"{catalog}.{schema}.retail_code_of_conduct\"\n",
    "    )"
   ]
  },
  {
   "cell_type": "markdown",
   "metadata": {
    "application/vnd.databricks.v1+cell": {
     "cellMetadata": {
      "byteLimit": 2048000,
      "rowLimit": 10000
     },
     "inputWidgets": {},
     "nuid": "b3f55b21-2ea3-46fd-9a1e-e6b9b3228858",
     "showTitle": false,
     "tableResultSettingsMap": {},
     "title": ""
    }
   },
   "source": [
    "### Create Genie Space\n",
    "\n",
    "Sneaky sneaky, genie spaces aren't supported but that doesn't mean we can't just look up some api calls via developer tools ;) \n",
    "\n",
    "https://databricks.aha.io/ideas/ideas/DB-I-10709?active_tab=idea_comments"
   ]
  },
  {
   "cell_type": "code",
   "execution_count": 0,
   "metadata": {
    "application/vnd.databricks.v1+cell": {
     "cellMetadata": {
      "byteLimit": 2048000,
      "rowLimit": 10000
     },
     "inputWidgets": {},
     "nuid": "72bb8726-03e8-417e-88bb-6a355852de7e",
     "showTitle": false,
     "tableResultSettingsMap": {},
     "title": ""
    }
   },
   "outputs": [],
   "source": [
    "payload_products_inventory_genie_room = {\n",
    "    \"display_name\": \"retail-product-inventory-snapshot\",\n",
    "    \"description\": \"This genie room provides information about products and the current inventory snapshot across stores.\",\n",
    "    \"table_identifiers\": [\n",
    "        f\"{catalog}.{schema}.retail_inventory_snapshot\",\n",
    "        f\"{catalog}.{schema}.retail_products\",\n",
    "    ],\n",
    "    \"run_as_type\": \"VIEWER\",\n",
    "    \"warehouse_id\": warehouse_cluster_id,\n",
    "}\n",
    "\n",
    "payload_sales_store_genie_room = {\n",
    "    \"display_name\": \"retail-sales-store-performance\",\n",
    "    \"description\": \"This genie space allows users to ask questions about store performance and inventory positions. This could be forecasts, sales, buy-online-pick-up-in-store etc.\",\n",
    "    \"table_identifiers\": [\n",
    "        f\"{catalog}.{schema}.retail_sales_monthly\",\n",
    "        f\"{catalog}.{schema}.retail_stores\",\n",
    "    ],\n",
    "    \"run_as_type\": \"VIEWER\",\n",
    "    \"warehouse_id\": warehouse_cluster_id,\n",
    "}\n",
    "\n",
    "payload_sales_text_instruction = {\n",
    "    \"title\": \"Notes\",\n",
    "    \"content\": \"When forecasts are requested, you must use the sql query provided to generate forecasts.\",\n",
    "    \"instruction_type\": \"TEXT_INSTRUCTION\",\n",
    "}\n",
    "\n",
    "\n",
    "payload_sales_sql_query = {\n",
    "    \"title\": \"Example query to generate sales forecasts by store for the next N. the following is for store 110 forecasts for the next 6 months.\",\n",
    "    \"content\": f\"with store_data as (\\nSELECT * FROM {catalog}.{schema}.retail_sales_monthly where store_id = 110 order by month --replace the store id here for other stores\\n)\\nSELECT * FROM ai_forecast(\\n  TABLE(store_data),\\n  horizon => (select max(month) + interval 7 month from store_data), --the interval can be any positive int. its always requested horizon+1\\n  time_col => 'month', -- what is the time dim\\n  value_col => 'total_sales' -- the metric we need to forecast\\n);\",\n",
    "    \"instruction_type\": \"SQL_INSTRUCTION\",\n",
    "    \"parameters\": [],\n",
    "    \"usage_guidance\": \"When a forecast is requested\",\n",
    "}\n"
   ]
  },
  {
   "cell_type": "code",
   "execution_count": 0,
   "metadata": {
    "application/vnd.databricks.v1+cell": {
     "cellMetadata": {
      "byteLimit": 2048000,
      "rowLimit": 10000
     },
     "inputWidgets": {},
     "nuid": "1dfc7166-1d7b-4081-b973-848e45ab1bef",
     "showTitle": false,
     "tableResultSettingsMap": {},
     "title": ""
    }
   },
   "outputs": [
    {
     "name": "stdout",
     "output_type": "stream",
     "text": [
      "Product Inventory Genie Room ID: 01f0408efb0c19099ce7e958563c175a\n",
      "Sales Store Genie Room ID: 01f0408ecdfe1d2595651a15a88f909a\n"
     ]
    }
   ],
   "source": [
    "from typing import Any\n",
    "import time\n",
    "\n",
    "from databricks.sdk import WorkspaceClient\n",
    "\n",
    "w = WorkspaceClient()\n",
    "route = \"/api/2.0/data-rooms/\"\n",
    "data_rooms = w.api_client.do(method=\"GET\", path=route)[\"data_rooms\"]\n",
    "\n",
    "\n",
    "def _post_sales_forecast_instructions(\n",
    "    genie_space_id: str,\n",
    "    payload_text_instructions: dict[str, str],\n",
    "    pyaload_sql_instructions: dict[str, Any],\n",
    ") -> None:\n",
    "    \"\"\"\n",
    "    Set instructions for the genie space\n",
    "\n",
    "    FAIR WARNING ALERT: the route and parameters are not public and may change at any time.\n",
    "    I just used these because I didn't want to manually create a genie room\n",
    "    \"\"\"\n",
    "    route_instruct = route + genie_space_id + \"/instructions\"\n",
    "    print(route_instruct)\n",
    "    resp = w.api_client.do(method=\"POST\", path=route_instruct, body=payload_text_instructions)\n",
    "    time.sleep(1)\n",
    "    print(resp)\n",
    "    resp = w.api_client.do(method=\"POST\", path=route_instruct, body=pyaload_sql_instructions)\n",
    "    print(resp)\n",
    "    return\n",
    "\n",
    "def get_or_create_genie_room(data_rooms: list[dict], payload: dict) -> str:\n",
    "    \"\"\"\n",
    "    Retreive a genie room or create it if it doesn't exist.\n",
    "\n",
    "    FAIR WARNING ALERT: the route and parameters are not public and may change at any time.\n",
    "    I just used these because I didn't want to manually create a genie room\n",
    "    \"\"\"\n",
    "    genie_space_name = payload[\"display_name\"]\n",
    "    if genie_space_name not in [i[\"display_name\"] for i in data_rooms]:\n",
    "        print(\"Creating genie space\")\n",
    "        resp = w.api_client.do(method=\"POST\", path=route, body=payload)\n",
    "        if genie_space_name == \"retail-sales-store-performance\":\n",
    "            _post_sales_forecast_instructions(\n",
    "                resp[\"id\"], payload_sales_text_instruction, payload_sales_sql_query\n",
    "            )\n",
    "        return resp[\"id\"]\n",
    "    else:\n",
    "        return next(\n",
    "            i[\"id\"] for i in data_rooms if i[\"display_name\"] == genie_space_name\n",
    "        )\n",
    "\n",
    "\n",
    "product_genie_room_id = get_or_create_genie_room(\n",
    "    data_rooms, payload_products_inventory_genie_room\n",
    ")\n",
    "sales_store_genie_room_id = get_or_create_genie_room(\n",
    "    data_rooms, payload_sales_store_genie_room\n",
    ")\n",
    "\n",
    "print(f\"Product Inventory Genie Room ID: {product_genie_room_id}\")\n",
    "print(f\"Sales Store Genie Room ID: {sales_store_genie_room_id}\")"
   ]
  },
  {
   "cell_type": "markdown",
   "metadata": {
    "application/vnd.databricks.v1+cell": {
     "cellMetadata": {
      "byteLimit": 2048000,
      "rowLimit": 10000
     },
     "inputWidgets": {},
     "nuid": "ef103aea-eaa8-41c9-9d90-a23dc2769342",
     "showTitle": false,
     "tableResultSettingsMap": {},
     "title": ""
    }
   },
   "source": [
    "\n",
    "### Create Vector Store\n",
    "\n"
   ]
  },
  {
   "cell_type": "markdown",
   "metadata": {
    "application/vnd.databricks.v1+cell": {
     "cellMetadata": {
      "byteLimit": 2048000,
      "rowLimit": 10000
     },
     "inputWidgets": {},
     "nuid": "508475a5-9ed0-4685-8dfe-5f99ea08a7e4",
     "showTitle": false,
     "tableResultSettingsMap": {},
     "title": ""
    }
   },
   "source": [
    "\n",
    "#### Provision endpoint"
   ]
  },
  {
   "cell_type": "code",
   "execution_count": 0,
   "metadata": {
    "application/vnd.databricks.v1+cell": {
     "cellMetadata": {
      "byteLimit": 2048000,
      "rowLimit": 10000
     },
     "inputWidgets": {},
     "nuid": "2891b59f-6a4e-4282-9e0a-28962d20f730",
     "showTitle": false,
     "tableResultSettingsMap": {},
     "title": ""
    }
   },
   "outputs": [
    {
     "name": "stdout",
     "output_type": "stream",
     "text": [
      "[NOTICE] Using a notebook authentication token. Recommended for development only. For improved performance, please use Service Principal based authentication. To disable this message, pass disable_notice=True.\n",
      "Endpoint is ONLINE\n",
      "{'name': 'vector-search-multi-agent-genie', 'creator': 'marshall.krassenstein@databricks.com', 'creation_timestamp': 1749046107451, 'last_updated_timestamp': 1749046107451, 'endpoint_type': 'STANDARD', 'last_updated_user': 'marshall.krassenstein@databricks.com', 'id': '633ac9c4-0ffd-4f95-a544-c8d7e94adf02', 'endpoint_status': {'state': 'ONLINE'}, 'num_indexes': 1}\n"
     ]
    }
   ],
   "source": [
    "import time\n",
    "\n",
    "from databricks.vector_search.client import VectorSearchClient\n",
    "\n",
    "client_v = VectorSearchClient()\n",
    "\n",
    "try:\n",
    "    resp = client_v.get_endpoint(vector_search_endpoint_name)\n",
    "except Exception:\n",
    "    print(f\"Endpoint {vector_search_endpoint_name} not found. Creating...\")\n",
    "    client_v.create_endpoint(\n",
    "        name=vector_search_endpoint_name,\n",
    "        endpoint_type=\"STANDARD\",  # or \"STORAGE_OPTIMIZED\"\n",
    "    )\n",
    "\n",
    "while True:\n",
    "    resp = client_v.get_endpoint(vector_search_endpoint_name)\n",
    "    if resp[\"endpoint_status\"].get(\"state\") == \"PROVISIONING\":\n",
    "        print(\"Endpoint is provisioning...\")\n",
    "        time.sleep(30)\n",
    "        continue\n",
    "    print(f\"Endpoint is {resp['endpoint_status']['state']}\")\n",
    "    break\n",
    "\n",
    "print(resp)"
   ]
  },
  {
   "cell_type": "markdown",
   "metadata": {
    "application/vnd.databricks.v1+cell": {
     "cellMetadata": {
      "byteLimit": 2048000,
      "rowLimit": 10000
     },
     "inputWidgets": {},
     "nuid": "08b39b7b-82dd-4801-94e1-55e01ef587e1",
     "showTitle": false,
     "tableResultSettingsMap": {},
     "title": ""
    }
   },
   "source": [
    "\n",
    "#### Make vector search index"
   ]
  },
  {
   "cell_type": "code",
   "execution_count": 0,
   "metadata": {
    "application/vnd.databricks.v1+cell": {
     "cellMetadata": {
      "byteLimit": 2048000,
      "rowLimit": 10000
     },
     "inputWidgets": {},
     "nuid": "6947ba02-4786-4e46-bdb5-bc4fc22bfd70",
     "showTitle": false,
     "tableResultSettingsMap": {},
     "title": ""
    }
   },
   "outputs": [
    {
     "data": {
      "text/plain": [
       "{'name': 'mk_fiddles.genie_multi_agent.retail_code_of_conduct_index',\n",
       " 'endpoint_name': 'vector-search-multi-agent-genie',\n",
       " 'primary_key': 'sec_id',\n",
       " 'index_type': 'DELTA_SYNC',\n",
       " 'delta_sync_index_spec': {'source_table': 'mk_fiddles.genie_multi_agent.retail_code_of_conduct',\n",
       "  'embedding_source_columns': [{'name': 'text_chunks',\n",
       "    'embedding_model_endpoint_name': 'databricks-gte-large-en'}],\n",
       "  'pipeline_type': 'TRIGGERED',\n",
       "  'pipeline_id': 'fbcdefd6-81b2-4a06-9497-222f85891a65'},\n",
       " 'status': {'detailed_state': 'ONLINE_NO_PENDING_UPDATE',\n",
       "  'message': 'Index creation succeeded. Check latest status: https://adb-1720970340056130.10.azuredatabricks.net/explore/data/mk_fiddles/genie_multi_agent/retail_code_of_conduct_index',\n",
       "  'indexed_row_count': 4,\n",
       "  'triggered_update_status': {'last_processed_commit_version': 1,\n",
       "   'last_processed_commit_timestamp': '2025-06-04T17:56:52Z'},\n",
       "  'ready': True,\n",
       "  'index_url': 'adb-1720970340056130.10.azuredatabricks.net/api/2.0/vector-search/indexes/mk_fiddles.genie_multi_agent.retail_code_of_conduct_index'},\n",
       " 'creator': 'marshall.krassenstein@databricks.com',\n",
       " 'endpoint_type': 'STANDARD'}"
      ]
     },
     "execution_count": 5,
     "metadata": {},
     "output_type": "execute_result"
    }
   ],
   "source": [
    "index_name = f\"{catalog}.{schema}.retail_code_of_conduct_index\"\n",
    "try:\n",
    "    index = client_v.get_index(vector_search_endpoint_name, index_name)\n",
    "\n",
    "except Exception:\n",
    "    spark.sql(f\"\"\"\n",
    "    ALTER TABLE {catalog}.{schema}.retail_code_of_conduct\n",
    "    SET TBLPROPERTIES (delta.enableChangeDataFeed = true)\n",
    "  \"\"\")\n",
    "\n",
    "    index = client_v.create_delta_sync_index(\n",
    "        endpoint_name=vector_search_endpoint_name,\n",
    "        source_table_name=f\"{catalog}.{schema}.retail_code_of_conduct\",\n",
    "        index_name=index_name,\n",
    "        pipeline_type=\"TRIGGERED\",\n",
    "        primary_key=\"sec_id\",\n",
    "        embedding_source_column=\"text_chunks\",\n",
    "        embedding_model_endpoint_name=\"databricks-gte-large-en\",\n",
    "    )\n",
    "\n",
    "while True:\n",
    "    index_status = index.describe()\n",
    "    if not index_status[\"status\"][\"ready\"]:\n",
    "        print(index_status[\"status\"])\n",
    "        time.sleep(30)\n",
    "        continue\n",
    "    break\n",
    "index_status"
   ]
  },
  {
   "cell_type": "code",
   "execution_count": 0,
   "metadata": {
    "application/vnd.databricks.v1+cell": {
     "cellMetadata": {
      "byteLimit": 2048000,
      "rowLimit": 10000
     },
     "inputWidgets": {},
     "nuid": "ea8901fb-eac9-489c-b5ce-dac2149de6cf",
     "showTitle": false,
     "tableResultSettingsMap": {},
     "title": ""
    }
   },
   "outputs": [
    {
     "name": "stdout",
     "output_type": "stream",
     "text": [
      "[NOTICE] Using a notebook authentication token. Recommended for development only. For improved performance, please use Service Principal based authentication. To disable this message, pass disable_notice=True.\n"
     ]
    },
    {
     "data": {
      "text/plain": [
       "{'manifest': {'column_count': 3,\n",
       "  'columns': [{'name': 'sec_id'}, {'name': 'text_chunks'}, {'name': 'score'}]},\n",
       " 'result': {'row_count': 2,\n",
       "  'data_array': [[3.0,\n",
       "    'Vendors/Suppliers must treat all employees with respect and dignity and provide them with a safe and healthy working environment.',\n",
       "    0.0016412847],\n",
       "   [4.0,\n",
       "    \"Factories shall comply with all applicable laws and regulations regarding the working environment, and must be free of any hazardous conditions. Vendors/Suppliers who provide residential accommodations for employees must apply similar standards to their residential facilities. Worker's Insurance\\nWholesale Club prefers Vendors/Suppliers who provide appropriate health and life insurance for their employees. Vendors/Suppliers must comply with all appropriate local laws and regulations requiring health insurance, life insurance and worker's compensation. Environment\\nWholesale Club is committed to preserving the environment. Vendors/Suppliers must comply with all applicable local environmental laws and regulations and abide by Wholesale Club's own environmental regulations. Equal Opportunity\\nWholesale Club is absolutely committed to non-discriminatory employment practices. Wholesale Club will only do business with Vendors/Suppliers who share Wholesale Club's vision that discrimination is unwelcome in the workplace. Vendors/Suppliers must not discriminate in hiring, salary, benefits, advancement, discipline, termination or retirement on the basis of race, color, nationality, gender, disability, sexual orientation, religion, social or ethnic origin, political or other beliefs. Employees should be hired and promoted on the basis of ability, not on the basis of personal characteristics or beliefs. Freedom of Association\\nWholesale Club prefers Vendors/Suppliers who acknowledge each employee's basic rights to freedom of association. Vendors/Suppliers must ensure that each of their employees has the right to establish and join organizations of the employee's choosing. Vendors/Suppliers must respect and recognize the rights of all employees to lawfully organize and bargain collectively. Vendors/Suppliers shall not discipline any person in their employment due to that person's non-violent exercise of such right. Disciplinary Practices\\nWholesale Club is firmly committed to the belief that everyone is entitled to be treated with dignity. Vendors/Suppliers must not inflict or threaten to inflict corporal\\n\\nVersion 1.0/2014\\n\\n--- PAGE 3 ---\\nThe text on the page reads:\\n\\npunishment or any other forms of physical, sexual, psychological or verbal abuse or harassment on any of their employees. Documentation and Inspection\\nVendors/Suppliers must maintain on file such documentation, kept according to generally accepted business practices, as may be needed to illustrate compliance with this Code of Business Conduct and agree to make these documents available for Wholesale Club's review upon request. Vendors/Suppliers must post this Code of Conduct conspicuously at its factories where it may be seen and understood by all employees in both English and the employees' native language. Copies shall be supplied to individual employees at their request, and at least once annually, together with the employees' regular pay. Wholesale Club Code of Business Conduct applies to any and all Vendors/Suppliers. Vendors/Suppliers must ensure that any parties supplying them with materials and/or labor in the manufacture of Wholesale Club products also abide by the provisions of Wholesale Club's Code of Business Conduct. Although it is the intent of Wholesale Club to work with the Vendors/Suppliers in conforming to Wholesale Club's Code of Business Conduct, in the event of any willful, non-compliance with these regulations, Wholesale Club may terminate or refuse to renew supply agreements with a Vendor/Supplier. Wholesale Club will apply the standards set forth in this Code of Business Conduct in its selection of new Vendors/Suppliers, as well as its continuation of business with existing Vendors/Suppliers. To assure proper implementation and the on-going compliance with these standards, Vendors/Suppliers must allow Wholesale Club full access to its facilities and records from time to time, with or without notice. Version 1.0/2014\\n\\n\",\n",
       "    0.0015483549]]},\n",
       " 'debug_info': {'response_time': 174.0,\n",
       "  'ann_time': 16.0,\n",
       "  'embedding_gen_time': 152.0}}"
      ]
     },
     "execution_count": 6,
     "metadata": {},
     "output_type": "execute_result"
    }
   ],
   "source": [
    "index = client_v.get_index(vector_search_endpoint_name, index_name)\n",
    "\n",
    "index.similarity_search(\n",
    "    query_text=\"What is our policy about children?\",\n",
    "    columns=[\"sec_id\", \"text_chunks\"],\n",
    "    num_results=5,\n",
    "    filters={\"sec_id NOT\": [\"1\", \"2\", \"5\"]},\n",
    ")"
   ]
  },
  {
   "cell_type": "markdown",
   "metadata": {
    "application/vnd.databricks.v1+cell": {
     "cellMetadata": {},
     "inputWidgets": {},
     "nuid": "6e94fb42-9953-4f4f-b96b-81eebbbf8d09",
     "showTitle": false,
     "tableResultSettingsMap": {},
     "title": ""
    }
   },
   "source": [
    "\n",
    "### MLFlow experiment\n"
   ]
  },
  {
   "cell_type": "code",
   "execution_count": 0,
   "metadata": {
    "application/vnd.databricks.v1+cell": {
     "cellMetadata": {
      "byteLimit": 2048000,
      "rowLimit": 10000
     },
     "inputWidgets": {},
     "nuid": "e59de8b6-db46-45c6-a233-eff83f986d3c",
     "showTitle": false,
     "tableResultSettingsMap": {},
     "title": ""
    }
   },
   "outputs": [
    {
     "data": {
      "text/plain": [
       "'2933242203415888'"
      ]
     },
     "execution_count": 26,
     "metadata": {},
     "output_type": "execute_result"
    }
   ],
   "source": [
    "from pathlib import Path\n",
    "\n",
    "import mlflow\n",
    "\n",
    "mlflow_experiment_name = \"agent_multi_tool_monitor\"\n",
    "\n",
    "mlflow_experiment = str(Path(\".\").absolute().parent / mlflow_experiment_name)\n",
    "\n",
    "experiment = mlflow.get_experiment_by_name(mlflow_experiment.replace(\"/Workspace\", \"\"))\n",
    "if experiment is None:\n",
    "    print(\"creating experiment..\")\n",
    "    experiment_id = mlflow.create_experiment(name=mlflow_experiment)\n",
    "    experiment = mlflow.get_experiment(experiment_id)\n",
    "\n",
    "experiment.experiment_id"
   ]
  },
  {
   "cell_type": "markdown",
   "metadata": {},
   "source": [
    "### Write configs to app_config.yaml"
   ]
  },
  {
   "cell_type": "code",
   "execution_count": null,
   "metadata": {},
   "outputs": [],
   "source": [
    "import yaml\n",
    "\n",
    "with open(\"app_config.yaml\", \"w\") as f:\n",
    "    yaml.dump(\n",
    "        {\n",
    "            \"CATALOG\": catalog,\n",
    "            \"SCHEMA\": schema,\n",
    "            \"DATABRICKS_MODEL\": databricks_foundation_model,\n",
    "            \"GENIE_SPACE_STORE_PERFORMANCE_ID\": sales_store_genie_room_id,\n",
    "            \"GENIE_SPACE_PRODUCT_INV_ID\": product_genie_room_id,\n",
    "            \"MLFLOW_EXPERIMENT_ID\": experiment.experiment_id,\n",
    "        },\n",
    "        f,\n",
    "        default_flow_style=False,\n",
    "    )"
   ]
  },
  {
   "cell_type": "markdown",
   "metadata": {},
   "source": [
    "### Download app_config.yaml\n",
    "\n",
    "If this ran successfully, you should have all of the variables you need to run the streamlit app. \n",
    "\n",
    "To run locally, download the app_config.yaml file and run the streamlit app from your terminal with the following command:\n",
    "\n",
    "```bash\n",
    "streamlit run streamlit_multi_genie_tools.py\n",
    "```\n",
    "\n",
    "To deploy the application from your local terminal, run the following command:\n",
    "\n",
    "```bash\n",
    "databricks apps deploy $APP_NAME --source-code-path $APP_WORKSPACE_PATH\n",
    "```"
   ]
  }
 ],
 "metadata": {
  "application/vnd.databricks.v1+notebook": {
   "computePreferences": {
    "hardware": {
     "accelerator": null,
     "gpuPoolId": null,
     "memory": null
    }
   },
   "dashboards": [],
   "environmentMetadata": {
    "base_environment": "",
    "environment_version": "2"
   },
   "inputWidgetPreferences": null,
   "language": "python",
   "notebookMetadata": {
    "pythonIndentUnit": 4
   },
   "notebookName": "Agent Multi Tool Setup",
   "widgets": {}
  },
  "language_info": {
   "name": "python"
  }
 },
 "nbformat": 4,
 "nbformat_minor": 0
}
